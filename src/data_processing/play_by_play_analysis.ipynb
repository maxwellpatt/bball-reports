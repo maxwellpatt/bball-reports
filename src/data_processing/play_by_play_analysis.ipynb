{
 "cells": [
  {
   "cell_type": "code",
   "execution_count": 6,
   "metadata": {},
   "outputs": [],
   "source": [
    "import sqlite3\n",
    "import pandas as pd\n",
    "\n",
    "from data.setup_db import add_dataset_to_db"
   ]
  },
  {
   "cell_type": "code",
   "execution_count": 13,
   "metadata": {},
   "outputs": [
    {
     "ename": "",
     "evalue": "",
     "output_type": "error",
     "traceback": [
      "\u001b[1;31mFailed to interrupt the Kernel. \n",
      "\u001b[1;31mUnable to start Kernel 'zenv (Python)' due to a connection timeout. \n",
      "\u001b[1;31mView Jupyter <a href='command:jupyter.viewOutput'>log</a> for further details."
     ]
    }
   ],
   "source": [
    "\n",
    "conn = sqlite3.connect('/Users/maxwellpatterson/Desktop/personal/bball/bball-reports/data/player_data.db')\n",
    "\n",
    "df = pd.read_sql_query(\"SELECT * FROM play_by_play\", conn)\n",
    "\n",
    "game_info_df = pd.read_sql_query(\"SELECT game_id, game_date FROM game_info\", conn)\n",
    "\n",
    "# Convert game_date to datetime and extract year\n",
    "game_info_df['year'] = pd.to_datetime(game_info_df['game_date']).dt.year\n",
    "\n",
    "\n",
    "# Merge play-by-play data with game_info\n",
    "df = pd.merge(df, game_info_df[['game_id', 'year']], on='game_id', how='left')\n",
    "print(df.to_string())"
   ]
  },
  {
   "cell_type": "code",
   "execution_count": null,
   "metadata": {},
   "outputs": [],
   "source": [
    "# Create a function to extract player actions\n",
    "def extract_player_action(row):\n",
    "    for desc in ['homedescription', 'neutraldescription', 'visitordescription']:\n",
    "        if pd.notna(row[desc]):\n",
    "            return row[desc]\n",
    "    return None"
   ]
  },
  {
   "cell_type": "code",
   "execution_count": 9,
   "metadata": {},
   "outputs": [
    {
     "name": "stdout",
     "output_type": "stream",
     "text": [
      "     game_id  year  eventnum                                player_action player_number       player_name\n",
      "1   29600012  1996         2  Jump Ball O'Neal vs. Kleine: Tip to Cassell  player1_name  Shaquille O'Neal\n",
      "26  29600012  1996         2  Jump Ball O'Neal vs. Kleine: Tip to Cassell  player2_name        Joe Kleine\n",
      "51  29600012  1996         2  Jump Ball O'Neal vs. Kleine: Tip to Cassell  player3_name       Sam Cassell\n",
      "2   29600012  1996         3                   MISS Cassell 15' Jump Shot  player1_name       Sam Cassell\n",
      "3   29600012  1996         4                 O'Neal REBOUND (Off:0 Def:1)  player1_name  Shaquille O'Neal\n",
      "4   29600012  1996         5              MISS Ceballos 26' 3PT Jump Shot  player1_name   Cedric Ceballos\n",
      "5   29600012  1996         6                Cassell REBOUND (Off:0 Def:1)  player1_name       Sam Cassell\n",
      "6   29600012  1996         7                      Van Exel P.FOUL (P1.T1)  player1_name     Nick Van Exel\n",
      "7   29600012  1996         8            Cassell Bad Pass Turnover (P1.T1)  player1_name       Sam Cassell\n",
      "8   29600012  1996         9                       MISS Ceballos 1' Layup  player1_name   Cedric Ceballos\n",
      "58  29600012  1996         9                       MISS Ceballos 1' Layup  player3_name      Robert Horry\n",
      "10  29600012  1996        11          Ceballos Lost Ball Turnover (P1.T1)  player1_name   Cedric Ceballos\n",
      "35  29600012  1996        11          Ceballos Lost Ball Turnover (P1.T1)  player2_name      Robert Horry\n",
      "11  29600012  1996        12                       Van Exel STEAL (1 STL)  player1_name      Robert Horry\n",
      "36  29600012  1996        12                       Van Exel STEAL (1 STL)  player2_name     Nick Van Exel\n",
      "12  29600012  1996        13   O'Neal  Slam Dunk (2 PTS) (Van Exel 1 AST)  player1_name  Shaquille O'Neal\n",
      "37  29600012  1996        13   O'Neal  Slam Dunk (2 PTS) (Van Exel 1 AST)  player2_name     Nick Van Exel\n",
      "13  29600012  1996        14                    MISS Kleine 11' Jump Shot  player1_name        Joe Kleine\n",
      "14  29600012  1996        15               Ceballos REBOUND (Off:0 Def:1)  player1_name   Cedric Ceballos\n",
      "15  29600012  1996        16        Ceballos  Layup (2 PTS) (Jones 1 AST)  player1_name   Cedric Ceballos\n",
      "40  29600012  1996        16        Ceballos  Layup (2 PTS) (Jones 1 AST)  player2_name       Eddie Jones\n",
      "16  29600012  1996        17                    MISS Person 16' Jump Shot  player1_name     Wesley Person\n",
      "17  29600012  1996        18                 Kleine REBOUND (Off:1 Def:0)  player1_name        Joe Kleine\n",
      "18  29600012  1996        19                   MISS Person  3PT Jump Shot  player1_name     Wesley Person\n",
      "19  29600012  1996        20                 O'Neal REBOUND (Off:0 Def:2)  player1_name  Shaquille O'Neal\n",
      "20  29600012  1996        21           Ceballos Bad Pass Turnover (P2.T2)  player1_name   Cedric Ceballos\n",
      "45  29600012  1996        21           Ceballos Bad Pass Turnover (P2.T2)  player2_name        A.C. Green\n",
      "21  29600012  1996        22                      Van Exel S.FOUL (P2.T2)  player1_name     Nick Van Exel\n",
      "22  29600012  1996        24            Cassell Free Throw 1 of 2 (1 PTS)  player1_name       Sam Cassell\n",
      "23  29600012  1996        25                     SUB: Fisher FOR Van Exel  player1_name     Nick Van Exel\n",
      "48  29600012  1996        25                     SUB: Fisher FOR Van Exel  player2_name      Derek Fisher\n",
      "24  29600012  1996        26            Cassell Free Throw 2 of 2 (2 PTS)  player1_name       Sam Cassell\n"
     ]
    }
   ],
   "source": [
    "# Add a new column for player actions\n",
    "df['player_action'] = df.apply(extract_player_action, axis=1)\n",
    "\n",
    "# Create a list of player columns\n",
    "player_columns = ['player1_name', 'player2_name', 'player3_name']\n",
    "\n",
    "# Melt the dataframe to create rows for each player involved in an action\n",
    "melted_df = pd.melt(df, id_vars=['game_id', 'year', 'eventnum', 'player_action'], \n",
    "                    value_vars=player_columns, \n",
    "                    var_name='player_number', value_name='player_name')\n",
    "\n",
    "# Remove rows where player_name is None\n",
    "melted_df = melted_df.dropna(subset=['player_name'])\n",
    "\n",
    "# Sort the dataframe\n",
    "melted_df = melted_df.sort_values(['game_id', 'eventnum', 'player_number'])\n",
    "\n",
    "# Display the first few rows of the new dataframe\n",
    "print(melted_df.head(50).to_string())\n",
    "\n",
    "conn.close()"
   ]
  },
  {
   "cell_type": "code",
   "execution_count": 12,
   "metadata": {},
   "outputs": [
    {
     "data": {
      "text/plain": [
       "(25, 36)"
      ]
     },
     "execution_count": 12,
     "metadata": {},
     "output_type": "execute_result"
    }
   ],
   "source": [
    "df.shape"
   ]
  },
  {
   "cell_type": "code",
   "execution_count": 11,
   "metadata": {},
   "outputs": [
    {
     "data": {
      "text/plain": [
       "23"
      ]
     },
     "execution_count": 11,
     "metadata": {},
     "output_type": "execute_result"
    }
   ],
   "source": [
    "len(melted_df['player_action'].unique())"
   ]
  }
 ],
 "metadata": {
  "kernelspec": {
   "display_name": "zenv",
   "language": "python",
   "name": "python3"
  },
  "language_info": {
   "codemirror_mode": {
    "name": "ipython",
    "version": 3
   },
   "file_extension": ".py",
   "mimetype": "text/x-python",
   "name": "python",
   "nbconvert_exporter": "python",
   "pygments_lexer": "ipython3",
   "version": "3.12.4"
  }
 },
 "nbformat": 4,
 "nbformat_minor": 2
}
